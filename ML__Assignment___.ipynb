{
  "metadata": {
    "language_info": {
      "codemirror_mode": {
        "name": "python",
        "version": 3
      },
      "file_extension": ".py",
      "mimetype": "text/x-python",
      "name": "python",
      "nbconvert_exporter": "python",
      "pygments_lexer": "ipython3",
      "version": "3.8"
    },
    "kernelspec": {
      "name": "python",
      "display_name": "Python (Pyodide)",
      "language": "python"
    },
    "colab": {
      "provenance": []
    }
  },
  "nbformat_minor": 0,
  "nbformat": 4,
  "cells": [
    {
      "cell_type": "markdown",
      "source": [
        "## Q1. How many multiplications and additions do you need to perform a matrix multiplication between a (n, k) and (k, m) matrix? Explain."
      ],
      "metadata": {
        "id": "RHhg9hfqwLKp"
      }
    },
    {
      "cell_type": "markdown",
      "source": [
        "## Answer: As shown below with an example, when we multiply two matrices, number of multiplication and number of additions required is equal to (number of rows of first matrix * number of columns of first matrix or number of rows of second matrix * number of columns of second matrix). Therefore, if we perform matrix multiplication between (n,k) and (k,m) matrix then total number of multiplications and additions needed will be n\\*m\\*k. Number of additions will also be same because initially we will be addding zero while computing for each cell because initially in resultant matrix we have made all the elements as 0. But in general it will take n\\*m\\*(k-1) additions.\n",
        "\n",
        "## Explanation - Taking the below example with two 3\\*3 matrix. We know that resultant matrix after multiplication will also be 3\\*3 matrix. Therefore total number of elements in the resultant matrix will be 9. So, if we focus on any one element let say first element of the resultant matrix then we can say that it has formed by multiplying first row of the first matrix with the first column of the second matrix which will need 3 multiplications as there are three elements present in both row and column. It will also need three additions per cell as we have first initialized the resultant matrix with all zeros, therefore this zero will also get added when we will be computing the final value of a particular cell along with the addition of the other multiplied elements as mentioned above. Therefore, total number of additions needed for each cell is also equal to 3. So, if we need 3 additions and 3 multiplications for each cell and we have total of 9 cells then we will need total of 27 additions and 27 multiplications in case of 3\\*3 matrix and likewise we can proof for matrices of other dimensions as well."
      ],
      "metadata": {
        "id": "D4hK4ENnZ5Io"
      }
    },
    {
      "cell_type": "code",
      "source": [
        "pip install numpy"
      ],
      "metadata": {
        "colab": {
          "base_uri": "https://localhost:8080/"
        },
        "id": "Ek1tN0rtmMT6",
        "outputId": "0f3794fe-3c9d-4e35-98c7-3b21aaff4db9"
      },
      "execution_count": null,
      "outputs": [
        {
          "output_type": "stream",
          "name": "stdout",
          "text": [
            "Looking in indexes: https://pypi.org/simple, https://us-python.pkg.dev/colab-wheels/public/simple/\n",
            "Requirement already satisfied: numpy in /usr/local/lib/python3.8/dist-packages (1.21.6)\n"
          ]
        }
      ]
    },
    {
      "cell_type": "code",
      "source": [
        "import numpy as np\n",
        "m = [[1, 2, 4],\n",
        "     [1, 4, 4],\n",
        "     [3, 2, 4]]\n",
        "n = [[4, 5, 8],\n",
        "     [3, 2, 3],\n",
        "     [3, 2, 3]]\n",
        "\n",
        "def multiply(m, n):\n",
        "  countAdd = 0\n",
        "  countMult = 0\n",
        "  t1 = len(m)\n",
        "  t2 = len(m[0])\n",
        "  t3 = len(n)\n",
        "  t4 = len(n[0])\n",
        "\n",
        "  if t2 == t3:\n",
        "    p = t1\n",
        "    q = t4\n",
        "    r = t2\n",
        "  elif t4 == t1:\n",
        "    p = t3\n",
        "    q = t2\n",
        "    r = t4\n",
        "  result = np.zeros([p,q], dtype = int)\n",
        "\n",
        "  for i in range(p):\n",
        "      for j in range(q):\n",
        "          for k in range(r):\n",
        "              result[i][j] = result[i][j] + m[i][k]*n[k][j]\n",
        "              countMult = countMult + 1\n",
        "              countAdd = countAdd +  1\n",
        "  for i in range(p):\n",
        "    for j in range(q):\n",
        "        print(result[i][j], end=\" \")\n",
        "    print(\"\\n\")\n",
        "  print(\"Number of multiplication performed:\",countMult, \" \", \"Number of addition performed: \",countAdd)\n",
        "  print(\"When we multiply number of rows of matrix m with number of columns of m or number of rows of matrix n with number of columns of matrix n we get same result as above: \",p*q*r)\n",
        "\n",
        "multiply(m,n)\n",
        "\n"
      ],
      "metadata": {
        "trusted": true,
        "colab": {
          "base_uri": "https://localhost:8080/"
        },
        "id": "2Pjr1jmSwLKu",
        "outputId": "9ffdf8a5-914e-4a6b-a104-386fc9bfeb5e"
      },
      "execution_count": null,
      "outputs": [
        {
          "output_type": "stream",
          "name": "stdout",
          "text": [
            "22 17 26 \n",
            "\n",
            "28 21 32 \n",
            "\n",
            "30 27 42 \n",
            "\n",
            "Number of multiplication performed: 27   Number of addition performed:  27\n",
            "When we multiply number of rows of matrix m with number of columns of m or number of rows of matrix n with number of columns of matrix n we get same result as above:  27\n"
          ]
        }
      ]
    },
    {
      "cell_type": "markdown",
      "source": [
        "## Q2. Write Python code to multiply the above two matrices. Solve using list of lists and then use numpy. Compare the timing of both solutions. Which one is faster? Why?"
      ],
      "metadata": {
        "id": "Tgp1teGBsulV"
      }
    },
    {
      "cell_type": "markdown",
      "source": [
        "## Answer - In below code we can see that when we perform matrix multiplication, numpy array takes very less time compared to list of list. This is because numpy package is built using C language and in numpy array boundation in datatype is introduced which ensures only one type of element can be stored in the array unlike python lists where we can store different types elements having different data types. And in C, arrays are stored in contiguous memory location therefore elements access time is much less compared to python lists. Thus numpy has advantage over python lists."
      ],
      "metadata": {
        "id": "qc8o2PQNwLKx"
      }
    },
    {
      "cell_type": "code",
      "source": [
        "import numpy as np"
      ],
      "metadata": {
        "trusted": true,
        "id": "KepjZNC8wLKy"
      },
      "execution_count": null,
      "outputs": []
    },
    {
      "cell_type": "code",
      "source": [
        "# Multiplying two matrices using list of lists\n",
        "\n",
        "def multiply_matrix(m, n):\n",
        "  countAdd = 0\n",
        "  countMult = 0\n",
        "  t1 = len(m)\n",
        "  t2 = len(m[0])\n",
        "  t3 = len(n)\n",
        "  t4 = len(n[0])\n",
        "\n",
        "  if t2 == t3:\n",
        "    p = t1\n",
        "    q = t4\n",
        "    r = t2\n",
        "  elif t4 == t1:\n",
        "    p = t3\n",
        "    q = t2\n",
        "    r = t4\n",
        "\n",
        "  result = np.zeros([p,q], dtype = int)\n",
        "\n",
        "  for i in range(p):\n",
        "      for j in range(q):\n",
        "          for k in range(r):\n",
        "              result[i][j] = result[i][j] + m[i][k]*n[k][j]\n",
        "\n",
        "def multiply_matrix_np(m,n):\n",
        "    return np.matmul(m,n)\n",
        "\n",
        "\n",
        "M = np.random.randint(0, 1000, size=(5, 2))\n",
        "N = np.random.randint(0, 1000, size=(2, 5))\n",
        "\n",
        "print(\"Average time taken to multiply two matrices without using numpy : \")\n",
        "%timeit -n 1000 multiply_matrix(M, N)\n",
        "print(\"\\n\")\n",
        "print(\"Average time taken to multiply two matrices using numpy : \")\n",
        "%timeit -n 1000 multiply_matrix_np(M, N)"
      ],
      "metadata": {
        "trusted": true,
        "colab": {
          "base_uri": "https://localhost:8080/"
        },
        "id": "Bqc5bK_dwLKz",
        "outputId": "6fe3ff83-1cab-4a23-f7f8-b7508e09aa77"
      },
      "execution_count": null,
      "outputs": [
        {
          "output_type": "stream",
          "name": "stdout",
          "text": [
            "Average time taken to multiply two matrices without using numpy : \n",
            "68 µs ± 3.59 µs per loop (mean ± std. dev. of 7 runs, 1000 loops each)\n",
            "\n",
            "\n",
            "Average time taken to multiply two matrices using numpy : \n",
            "1.75 µs ± 663 ns per loop (mean ± std. dev. of 7 runs, 1000 loops each)\n"
          ]
        }
      ]
    },
    {
      "cell_type": "markdown",
      "source": [
        "## Q3. Finding the highest element in a list requires one pass of the array. Finding the second highest element requires 2 passes of the the array. Using this method, what is the time complexity of finding the median of the array? Can you suggest a better method? Can you implement both these methods in Python and compare against numpy.median routine in terms of time?"
      ],
      "metadata": {
        "id": "Cb8_YGO0wLK0"
      }
    },
    {
      "cell_type": "markdown",
      "source": [
        "## Answer: The method mentioned in the question will take O(n^2) time complexity as for finding highest element at each iteration will go through comparing with all the elements present in the array. And if we go on finding first highest, second highest and so on, then we will have to iterate through the array again and again and this will be equal to the length of the array. Therefore, time complexity will be equal to O(n^2).\n",
        "\n",
        "## We can improvise the same by performing sorting operation in O(nlogn) time and then finding the median in O(1) time."
      ],
      "metadata": {
        "id": "AspNXPbd38yE"
      }
    },
    {
      "cell_type": "code",
      "source": [
        "import numpy as np\n",
        "\n",
        "def median_find(l):\n",
        "  ar = l.copy()\n",
        "  newdict = {}\n",
        "  m=0\n",
        "  max = ar[0]\n",
        "  for i in range(len(ar)):\n",
        "    if max < ar[i]:\n",
        "      max = ar[i]\n",
        "  highest = max+1\n",
        "\n",
        "  for i in range(0, len(ar)):\n",
        "    maxval = 0\n",
        "    for j in range(0, len(ar)):\n",
        "      if maxval < ar[j] and ar[j] < highest:\n",
        "        max = j\n",
        "        maxval = ar[j]\n",
        "    newdict[m] = ar[max]\n",
        "    m = m+1\n",
        "    ar[max] = highest\n",
        "  temp = len(ar)\n",
        "  media = 0\n",
        "  if temp % 2 == 0:\n",
        "    meda = (newdict[temp//2] + newdict[(temp//2)-1])/2\n",
        "  else:\n",
        "    meda = newdict[temp//2]\n",
        "\n",
        "def med(ar):\n",
        "    median = 0\n",
        "    ar = sorted(ar)\n",
        "    length = len(ar)\n",
        "    if length % 2 != 0:\n",
        "        median = ar[(length//2)]\n",
        "    else:\n",
        "        median = (ar[((length//2)-1)] + ar[(length//2)]) / 2\n",
        "\n",
        "def mednp(ar):\n",
        "    np.median(ar)\n",
        "\n",
        "ar = np.random.choice(10000000, size=(2000), replace=False)\n",
        "median_find(ar)\n",
        "med(ar)\n",
        "print(\"Average time taken by the approch mentioned in the question is : \")\n",
        "%timeit -n 100 median_find(ar) \n",
        "print(\"\\n\")\n",
        "print(\"Average time taken by more efficient approch is : \")\n",
        "%timeit -n 100 med(ar)\n",
        "print(\"\\n\")\n",
        "print(\"Average time taken by numpy.median is : \")\n",
        "%timeit -n 100 mednp(ar) "
      ],
      "metadata": {
        "trusted": true,
        "colab": {
          "base_uri": "https://localhost:8080/"
        },
        "id": "lvWbwWWMwLK1",
        "outputId": "6e9f0a55-b3b6-4f91-93ed-06fb16caba87"
      },
      "execution_count": 8,
      "outputs": [
        {
          "output_type": "stream",
          "name": "stdout",
          "text": [
            "Average time taken by the approch mentioned in the question is : \n",
            "875 ms ± 6.8 ms per loop (mean ± std. dev. of 7 runs, 100 loops each)\n",
            "\n",
            "\n",
            "Average time taken by more efficient approch is : \n",
            "659 µs ± 38.8 µs per loop (mean ± std. dev. of 7 runs, 100 loops each)\n",
            "\n",
            "\n",
            "Average time taken by numpy.median is : \n",
            "30.5 µs ± 3.95 µs per loop (mean ± std. dev. of 7 runs, 100 loops each)\n"
          ]
        }
      ]
    },
    {
      "cell_type": "markdown",
      "source": [
        "### Q4. What is the gradient of the following function with respect to x and y? \n",
        "$x^2y+y^3sin(x)$\n"
      ],
      "metadata": {
        "id": "letr5soQwLK2"
      }
    },
    {
      "cell_type": "markdown",
      "source": [
        "## Answer: \n",
        "#### $\\partial f(x,y)/\\partial x = 2xy + y^3 cos(x)$\n",
        "#### $\\partial f(x,y)/\\partial y = x^2 + 3y^2 sin(x)$"
      ],
      "metadata": {
        "id": "odpoY6ZswLK2"
      }
    },
    {
      "cell_type": "markdown",
      "source": [
        "## Q5. Use JAX to confirm the gradient evaluated by your method matches the analytical solution corresponding to a few random values of x and y "
      ],
      "metadata": {
        "id": "4YFJMqBbwLK2"
      }
    },
    {
      "cell_type": "code",
      "source": [
        "pip install jax jaxlib"
      ],
      "metadata": {
        "trusted": true,
        "colab": {
          "base_uri": "https://localhost:8080/"
        },
        "id": "rhjy5ufhwLK2",
        "outputId": "e2a570ca-0f7b-4029-84ff-d54f72432350"
      },
      "execution_count": null,
      "outputs": [
        {
          "output_type": "stream",
          "name": "stdout",
          "text": [
            "Looking in indexes: https://pypi.org/simple, https://us-python.pkg.dev/colab-wheels/public/simple/\n",
            "Requirement already satisfied: jax in /usr/local/lib/python3.8/dist-packages (0.3.25)\n",
            "Requirement already satisfied: jaxlib in /usr/local/lib/python3.8/dist-packages (0.3.25+cuda11.cudnn805)\n",
            "Requirement already satisfied: opt-einsum in /usr/local/lib/python3.8/dist-packages (from jax) (3.3.0)\n",
            "Requirement already satisfied: scipy>=1.5 in /usr/local/lib/python3.8/dist-packages (from jax) (1.7.3)\n",
            "Requirement already satisfied: numpy>=1.20 in /usr/local/lib/python3.8/dist-packages (from jax) (1.21.6)\n",
            "Requirement already satisfied: typing-extensions in /usr/local/lib/python3.8/dist-packages (from jax) (4.4.0)\n"
          ]
        }
      ]
    },
    {
      "cell_type": "code",
      "source": [
        "import math\n",
        "import numpy as np\n",
        "import jax.numpy as jp\n",
        "from jax import grad, jit, random\n",
        "\n",
        "def fX(x, y):\n",
        "    return (x**2)*y + (y**3)*jp.sin(x)\n",
        "def fY(x, y):\n",
        "    return (y**2)*x + (x**3)*jp.sin(y)\n",
        "\n",
        "# Defining the gradient of the function with respect to x and y\n",
        "def gradientX(x, y):\n",
        "    return 2*x*y + (y**3)*math.cos(x)\n",
        "def gradientY(x, y):\n",
        "    return y**2 + 3*(x**2)*math.sin(y)\n",
        "\n",
        "x = np.random.randn()\n",
        "y = np.random.randn()\n",
        "\n",
        "numeric_gradient_X = grad(fX)(x, y)\n",
        "numeric_gradient_Y = grad(fY)(x, y)\n",
        "\n",
        "analytical_gradient_X = gradientX(x, y)\n",
        "analytical_gradient_Y = gradientY(x, y)\n",
        "\n",
        "print(\"Numeric gradient w.r.t x is: \",numeric_gradient_X)\n",
        "print(\"Analytical gradient w.r.t x is:\",analytical_gradient_X)\n",
        "print(\"\\n\")\n",
        "print(\"Numeric gradient w.r.t y is\",numeric_gradient_Y)\n",
        "print(\"Analytical gradient w.r.t y is\",analytical_gradient_Y)"
      ],
      "metadata": {
        "trusted": true,
        "colab": {
          "base_uri": "https://localhost:8080/"
        },
        "id": "Ev7cKlkdwLK3",
        "outputId": "69298b44-006f-4d32-d6d6-65536624143b"
      },
      "execution_count": null,
      "outputs": [
        {
          "output_type": "stream",
          "name": "stdout",
          "text": [
            "Numeric gradient w.r.t x is:  4.708359\n",
            "Analytical gradient w.r.t x is: 4.708359268284021\n",
            "\n",
            "\n",
            "Numeric gradient w.r.t y is 8.02011\n",
            "Analytical gradient w.r.t y is 8.02011021605116\n"
          ]
        }
      ]
    },
    {
      "cell_type": "markdown",
      "source": [
        "## Q6. Use sympy to confirm that you obtain the same gradient analytically.\n"
      ],
      "metadata": {
        "id": "s5h81xpVCTsh"
      }
    },
    {
      "cell_type": "code",
      "source": [
        "import sympy\n",
        "from sympy import diff, symbols\n",
        "\n",
        "x, y = sympy.symbols('x y')\n",
        "\n",
        "f = (x**2)*y + (y**3)*sympy.sin(x)\n",
        "\n",
        "grad_x = diff(f,x)\n",
        "grad_y = diff(f,y)\n",
        "print(\"Partial derivative w.r.t x :\",grad_x)\n",
        "print(\"Partial derivative w.r.t y :\",grad_y)"
      ],
      "metadata": {
        "colab": {
          "base_uri": "https://localhost:8080/"
        },
        "id": "NqLwT55LcO1r",
        "outputId": "cdc6815d-1e1f-4b74-ab3a-45b9f6050b53"
      },
      "execution_count": null,
      "outputs": [
        {
          "output_type": "stream",
          "name": "stdout",
          "text": [
            "Partial derivative w.r.t x : 2*x*y + y**3*cos(x)\n",
            "Partial derivative w.r.t y : x**2 + 3*y**2*sin(x)\n"
          ]
        }
      ]
    },
    {
      "cell_type": "markdown",
      "source": [
        "## Q7. Create a Python nested dictionary to represent hierarchical information. We want to store record of students and their marks. "
      ],
      "metadata": {
        "id": "AUgJ6WyaKqEU"
      }
    },
    {
      "cell_type": "code",
      "source": [
        "from pprint import pprint\n",
        "\n",
        "years = [2022, 2023, 2024, 2025]\n",
        "branches = ['Branch 1', 'Branch 2']\n",
        "students = [\n",
        "    {'Roll Number': 1, 'Name': 'N', 'Marks': {'Maths': 100, 'English': 70}},\n",
        "    {'Roll Number': 2, 'Name': 'M', 'Marks': {'Maths': 90, 'English': 80}},\n",
        "]\n",
        "\n",
        "students_data = {}\n",
        "\n",
        "for year in years:\n",
        "    students_data[year] = {}\n",
        "    for branch in branches:\n",
        "        students_data[year][branch] = []\n",
        "        for student in students:\n",
        "            students_data[year][branch].append(student)\n",
        "\n",
        "pprint(students_data)"
      ],
      "metadata": {
        "colab": {
          "base_uri": "https://localhost:8080/"
        },
        "id": "PxXaFg1xwLK3",
        "outputId": "02a76b6b-5e82-416b-f413-3bba19d45d24"
      },
      "execution_count": null,
      "outputs": [
        {
          "output_type": "stream",
          "name": "stdout",
          "text": [
            "{2022: {'Branch 1': [{'Marks': {'English': 70, 'Maths': 100},\n",
            "                      'Name': 'N',\n",
            "                      'Roll Number': 1},\n",
            "                     {'Marks': {'English': 80, 'Maths': 90},\n",
            "                      'Name': 'M',\n",
            "                      'Roll Number': 2}],\n",
            "        'Branch 2': [{'Marks': {'English': 70, 'Maths': 100},\n",
            "                      'Name': 'N',\n",
            "                      'Roll Number': 1},\n",
            "                     {'Marks': {'English': 80, 'Maths': 90},\n",
            "                      'Name': 'M',\n",
            "                      'Roll Number': 2}]},\n",
            " 2023: {'Branch 1': [{'Marks': {'English': 70, 'Maths': 100},\n",
            "                      'Name': 'N',\n",
            "                      'Roll Number': 1},\n",
            "                     {'Marks': {'English': 80, 'Maths': 90},\n",
            "                      'Name': 'M',\n",
            "                      'Roll Number': 2}],\n",
            "        'Branch 2': [{'Marks': {'English': 70, 'Maths': 100},\n",
            "                      'Name': 'N',\n",
            "                      'Roll Number': 1},\n",
            "                     {'Marks': {'English': 80, 'Maths': 90},\n",
            "                      'Name': 'M',\n",
            "                      'Roll Number': 2}]},\n",
            " 2024: {'Branch 1': [{'Marks': {'English': 70, 'Maths': 100},\n",
            "                      'Name': 'N',\n",
            "                      'Roll Number': 1},\n",
            "                     {'Marks': {'English': 80, 'Maths': 90},\n",
            "                      'Name': 'M',\n",
            "                      'Roll Number': 2}],\n",
            "        'Branch 2': [{'Marks': {'English': 70, 'Maths': 100},\n",
            "                      'Name': 'N',\n",
            "                      'Roll Number': 1},\n",
            "                     {'Marks': {'English': 80, 'Maths': 90},\n",
            "                      'Name': 'M',\n",
            "                      'Roll Number': 2}]},\n",
            " 2025: {'Branch 1': [{'Marks': {'English': 70, 'Maths': 100},\n",
            "                      'Name': 'N',\n",
            "                      'Roll Number': 1},\n",
            "                     {'Marks': {'English': 80, 'Maths': 90},\n",
            "                      'Name': 'M',\n",
            "                      'Roll Number': 2}],\n",
            "        'Branch 2': [{'Marks': {'English': 70, 'Maths': 100},\n",
            "                      'Name': 'N',\n",
            "                      'Roll Number': 1},\n",
            "                     {'Marks': {'English': 80, 'Maths': 90},\n",
            "                      'Name': 'M',\n",
            "                      'Roll Number': 2}]}}\n"
          ]
        }
      ]
    },
    {
      "cell_type": "markdown",
      "source": [
        "## Q8. Store the same information using Python classes. We have an overall database which is a list of year objects. Each year contains a list of branches. Each branch contains a list of students. Each student has some properties like name, roll number and has marks in some subjects.\n",
        "## Answer:\n"
      ],
      "metadata": {
        "id": "NzUGvcQ1geYA"
      }
    },
    {
      "cell_type": "code",
      "source": [
        "class Year:\n",
        "    def __init__(self):\n",
        "        self.years = []\n",
        "        self.branch = self.Branch()\n",
        "    def add_year(self, year):\n",
        "        self.years.append(year)\n",
        "\n",
        "    class Branch:\n",
        "        def __init__(self):\n",
        "          self.branches = {}\n",
        "        def add_branch(self, name):\n",
        "          self.branches[name] = name\n",
        "\n",
        "class Student:\n",
        "    def __init__(self, name, roll_number):\n",
        "        self.roll_number = roll_number\n",
        "        self.name = name\n",
        "\n",
        "class Marks:\n",
        "  def __init__(self, mark1, mark2):\n",
        "    self.marks = {\"English\": mark1, \"Maths\": mark2}\n",
        "\n",
        "\n",
        "mr = Marks(90, 86)\n",
        "sr = Marks(78, 99)\n",
        "\n",
        "st = Student(\"Kunal\",1)\n",
        "rt = Student(\"Hardik\",2)\n",
        "\n",
        "yr = Year()\n",
        "yr.add_year(2023)\n",
        "yr.add_year(2024)\n",
        "\n",
        "br = yr.branch\n",
        "cr = yr.branch\n",
        "br.add_branch(\"Branch_1\")\n",
        "cr.add_branch(\"Branch_2\")\n",
        "\n",
        "student1 = {\"Name\":st.name,\"Roll_numberst\":st.roll_number,\"Marks\": {\"English\": mr.marks[\"English\"], \"Maths\": mr.marks[\"Maths\"]}}\n",
        "student2 = {\"Name\":rt.name,\"Roll_numberst\":rt.roll_number,\"Marks\": {\"English\": sr.marks[\"English\"], \"Maths\": sr.marks[\"Maths\"]}}\n",
        "\n",
        "years = dict()\n",
        "\n",
        "years = {\"Years\": yr.years, \"Branch\": yr.branch.branches}\n",
        "students = {\"students\": [student1, student2]}\n",
        "\n",
        "for i in years[\"Years\"]:\n",
        "  print(i, \":\")\n",
        "  for j in years[\"Branch\"]:\n",
        "    print(j,\":\")\n",
        "    for k in students[\"students\"]:\n",
        "      print(k)\n",
        "        "
      ],
      "metadata": {
        "id": "fEppvOOUgh-e",
        "colab": {
          "base_uri": "https://localhost:8080/"
        },
        "outputId": "dbad5f2b-8409-4fc6-87ae-ffd23085aa56"
      },
      "execution_count": 6,
      "outputs": [
        {
          "output_type": "stream",
          "name": "stdout",
          "text": [
            "2023 :\n",
            "Branch_1 :\n",
            "{'Name': 'Kunal', 'Roll_numberst': 1, 'Marks': {'English': 90, 'Maths': 86}}\n",
            "{'Name': 'Hardik', 'Roll_numberst': 2, 'Marks': {'English': 78, 'Maths': 99}}\n",
            "Branch_2 :\n",
            "{'Name': 'Kunal', 'Roll_numberst': 1, 'Marks': {'English': 90, 'Maths': 86}}\n",
            "{'Name': 'Hardik', 'Roll_numberst': 2, 'Marks': {'English': 78, 'Maths': 99}}\n",
            "2024 :\n",
            "Branch_1 :\n",
            "{'Name': 'Kunal', 'Roll_numberst': 1, 'Marks': {'English': 90, 'Maths': 86}}\n",
            "{'Name': 'Hardik', 'Roll_numberst': 2, 'Marks': {'English': 78, 'Maths': 99}}\n",
            "Branch_2 :\n",
            "{'Name': 'Kunal', 'Roll_numberst': 1, 'Marks': {'English': 90, 'Maths': 86}}\n",
            "{'Name': 'Hardik', 'Roll_numberst': 2, 'Marks': {'English': 78, 'Maths': 99}}\n"
          ]
        }
      ]
    },
    {
      "cell_type": "markdown",
      "source": [
        "## Q9. Using matplotlib plot the following functions on the domain: x = 0.5 to 100.0 in steps of 0.5.\n",
        "1. $y = x$\n",
        "2. $y = x^2$\n",
        "3. $y = x^3/100$\n",
        "4. $y = sin(x)$\n",
        "5. $y = sin(x)/x$\n",
        "6. $y = log(x)$\n",
        "7. $y = e^x$\n",
        "\n",
        "## Answer:"
      ],
      "metadata": {
        "id": "oCqKHjI4QC1D"
      }
    },
    {
      "cell_type": "code",
      "source": [
        "import matplotlib.pyplot as plt\n",
        "import numpy as np\n",
        "import math\n",
        "\n",
        "x = list(range(201))\n",
        "X = [0.5 * i for i in x]\n",
        "\n",
        "\n",
        "Y1 = X\n",
        "\n",
        "Y2 = []\n",
        "Y2 = [i**2 for i in x]\n",
        "\n",
        "Y3 = []\n",
        "Y3 = [(i**3)/100 for i in x]\n",
        "\n",
        "Y4 = np.sin(X)\n",
        "\n",
        "Y5 = np.log(X)\n",
        "\n",
        "Y6 = np.sin(x)/x\n",
        "\n",
        "Y7 = np.exp(x)\n",
        "  \n",
        "# Initializing the subplot function using number of rows and columns\n",
        "figure, axis = plt.subplots(7, 1)\n",
        "\n",
        "figure.set_figheight(50)\n",
        "figure.set_figwidth(10) \n",
        "\n",
        "\n",
        "axis[0].plot(X, Y1)\n",
        "axis[0].set_title(\"y=x\")\n",
        "\n",
        "axis[1].plot(X, Y2)\n",
        "axis[1].set_title(\"y = x^2\")\n",
        "\n",
        "axis[2].plot(X, Y3)\n",
        "axis[2].set_title(\"y = x^3/100\")\n",
        "\n",
        "axis[3].plot(X, Y4)\n",
        "axis[3].set_title(\"sin(x) Function\")\n",
        "\n",
        "axis[4].plot(X, Y5)\n",
        "axis[4].set_title(\"log(x) Function\")\n",
        "\n",
        "axis[5].plot(X, Y6)\n",
        "axis[5].set_title(\"sin(x)/x Function\")\n",
        "\n",
        "axis[6].plot(X, Y7)\n",
        "axis[6].set_title(\"e^x Function\")\n",
        "\n",
        "\n",
        "plt.show()"
      ],
      "metadata": {
        "colab": {
          "base_uri": "https://localhost:8080/",
          "height": 1000
        },
        "id": "1iaX3QfXwLK4",
        "outputId": "b1e2f831-7a76-4cdb-b3a2-4deca8509a96"
      },
      "execution_count": null,
      "outputs": [
        {
          "output_type": "stream",
          "name": "stderr",
          "text": [
            "<ipython-input-273-af0230b1c314>:19: RuntimeWarning: divide by zero encountered in log\n",
            "  Y5 = np.log(X)\n",
            "<ipython-input-273-af0230b1c314>:21: RuntimeWarning: invalid value encountered in true_divide\n",
            "  Y6 = np.sin(x)/x\n"
          ]
        },
        {
          "output_type": "display_data",
          "data": {
            "text/plain": [
              "<Figure size 720x3600 with 7 Axes>"
            ],
            "image/png": "[encoded data removed]"
          },
          "metadata": {
            "needs_background": "light"
          }
        }
      ]
    },
    {
      "cell_type": "markdown",
      "source": [
        "## Q10. Using numpy generate a matrix of size 20X5 containing random numbers drawn uniformly from the range of 1 to 2. Using Pandas create a dataframe out of this matrix. Name the columns of the dataframe as “a”, “b”, “c”, “d”, “e”. Find the column with the highest standard deviation. Find the row with the lowest mean.\n",
        "##Answer:"
      ],
      "metadata": {
        "id": "Jt3j0OB_Eixz"
      }
    },
    {
      "cell_type": "code",
      "source": [
        "import numpy as np\n",
        "import pandas as pd\n",
        "\n",
        "matrix = np.random.uniform(1, 2, size=(20, 5))\n",
        "print(matrix)\n",
        "\n",
        "df = pd.DataFrame(matrix, columns=['a', 'b', 'c', 'd', 'e'])\n",
        "print(df)\n",
        "\n",
        "stds = df.std()\n",
        "max_std = stds.idxmax()\n",
        "print(\"Column with maximum standard deviation is: \",max_std)\n",
        "\n",
        "means = df.mean(axis=1)\n",
        "min_mean = means.idxmin()\n",
        "print(\"Row with lowest mean is: \",min_mean)"
      ],
      "metadata": {
        "colab": {
          "base_uri": "https://localhost:8080/"
        },
        "id": "DyBIiVVcwLK4",
        "outputId": "379ecda6-5cf6-43f0-dd6c-9bb0023df0c4"
      },
      "execution_count": null,
      "outputs": [
        {
          "output_type": "stream",
          "name": "stdout",
          "text": [
            "[[1.45581401 1.58519711 1.11442349 1.26448467 1.78084032]\n",
            " [1.93275366 1.06220695 1.81442668 1.47272865 1.2530857 ]\n",
            " [1.57435602 1.71100027 1.58596504 1.83548165 1.6250081 ]\n",
            " [1.79374851 1.4545185  1.44775969 1.1811512  1.09532999]\n",
            " [1.79688996 1.59020642 1.95795335 1.91169905 1.07863367]\n",
            " [1.85130661 1.53363693 1.93449812 1.85182232 1.03073843]\n",
            " [1.94831986 1.09266332 1.44860449 1.06391839 1.31165599]\n",
            " [1.80768778 1.05136951 1.44521491 1.60464673 1.67267063]\n",
            " [1.46185651 1.56175808 1.96530939 1.40431748 1.21375033]\n",
            " [1.09202624 1.31322975 1.29221523 1.74604611 1.69489734]\n",
            " [1.7129754  1.78795059 1.40566843 1.59172247 1.2112538 ]\n",
            " [1.34003817 1.55113193 1.83819716 1.59250749 1.5017627 ]\n",
            " [1.36103452 1.02455672 1.06577671 1.91444576 1.19665657]\n",
            " [1.40068282 1.68129025 1.48732916 1.83723545 1.67249324]\n",
            " [1.31006068 1.15200552 1.91228866 1.84270612 1.93397624]\n",
            " [1.63637226 1.42590166 1.526315   1.07393614 1.99531103]\n",
            " [1.10392566 1.56988754 1.76020958 1.10924013 1.76141123]\n",
            " [1.39025704 1.46841441 1.38678105 1.66852034 1.31305427]\n",
            " [1.0180575  1.27768211 1.70438494 1.20123417 1.05660481]\n",
            " [1.30036575 1.87161685 1.92516299 1.56890515 1.15823325]]\n",
            "           a         b         c         d         e\n",
            "0   1.455814  1.585197  1.114423  1.264485  1.780840\n",
            "1   1.932754  1.062207  1.814427  1.472729  1.253086\n",
            "2   1.574356  1.711000  1.585965  1.835482  1.625008\n",
            "3   1.793749  1.454518  1.447760  1.181151  1.095330\n",
            "4   1.796890  1.590206  1.957953  1.911699  1.078634\n",
            "5   1.851307  1.533637  1.934498  1.851822  1.030738\n",
            "6   1.948320  1.092663  1.448604  1.063918  1.311656\n",
            "7   1.807688  1.051370  1.445215  1.604647  1.672671\n",
            "8   1.461857  1.561758  1.965309  1.404317  1.213750\n",
            "9   1.092026  1.313230  1.292215  1.746046  1.694897\n",
            "10  1.712975  1.787951  1.405668  1.591722  1.211254\n",
            "11  1.340038  1.551132  1.838197  1.592507  1.501763\n",
            "12  1.361035  1.024557  1.065777  1.914446  1.196657\n",
            "13  1.400683  1.681290  1.487329  1.837235  1.672493\n",
            "14  1.310061  1.152006  1.912289  1.842706  1.933976\n",
            "15  1.636372  1.425902  1.526315  1.073936  1.995311\n",
            "16  1.103926  1.569888  1.760210  1.109240  1.761411\n",
            "17  1.390257  1.468414  1.386781  1.668520  1.313054\n",
            "18  1.018057  1.277682  1.704385  1.201234  1.056605\n",
            "19  1.300366  1.871617  1.925163  1.568905  1.158233\n",
            "Column with maximum standard deviation is:  e\n",
            "Row with lowest mean is:  18\n"
          ]
        }
      ]
    },
    {
      "cell_type": "markdown",
      "source": [
        "## Q11. Add a new column to the dataframe called “f” which is the sum of the columns “a”, “b”, “c”, “d”, “e”. Create another column called “g”. The value in the column “g” should be “LT8” if the value in the column “f” is less than 8 and “GT8” otherwise. Find the number of rows in the dataframe where the value in the column “g” is “LT8”. Find the standard deviation of the column “f” for the rows where the value in the column “g” is “LT8” and “GT8” respectively.\n",
        "## Answer: "
      ],
      "metadata": {
        "id": "nmt8eCUaF94i"
      }
    },
    {
      "cell_type": "code",
      "source": [
        "df['f'] = df[['a', 'b', 'c', 'd', 'e']].sum(axis=1)\n",
        "print(df)\n",
        "\n",
        "df['g'] = np.where(df['f'] < 8, 'LT8', 'GT8')\n",
        "num = df['g'].value_counts()['LT8']\n",
        "print(\"\\n\")\n",
        "print(\"Number of rows in the dataframe where the value in the column “g” is “LT8” is: \",num)\n",
        "\n",
        "std_lt8 = df[df['g'] == 'LT8']['f'].std()\n",
        "std_gt8 = df[df['g'] == 'GT8']['f'].std()\n",
        "print(\"\\n\")\n",
        "print(\"Standard deviation of the column “f” for the rows where the value in the column “g” is “LT8” is: \",std_lt8)\n",
        "print(\"\\n\")\n",
        "print(\"Standard deviation of the column “f” for the rows where the value in the column “g” is “GT8” is: \",std_gt8)"
      ],
      "metadata": {
        "colab": {
          "base_uri": "https://localhost:8080/"
        },
        "id": "u6sCb9v5wLK4",
        "outputId": "c580c8a0-c4a4-48df-c065-c57f5e7f4bb2"
      },
      "execution_count": null,
      "outputs": [
        {
          "output_type": "stream",
          "name": "stdout",
          "text": [
            "           a         b         c         d         e         f\n",
            "0   1.455814  1.585197  1.114423  1.264485  1.780840  7.200760\n",
            "1   1.932754  1.062207  1.814427  1.472729  1.253086  7.535202\n",
            "2   1.574356  1.711000  1.585965  1.835482  1.625008  8.331811\n",
            "3   1.793749  1.454518  1.447760  1.181151  1.095330  6.972508\n",
            "4   1.796890  1.590206  1.957953  1.911699  1.078634  8.335382\n",
            "5   1.851307  1.533637  1.934498  1.851822  1.030738  8.202002\n",
            "6   1.948320  1.092663  1.448604  1.063918  1.311656  6.865162\n",
            "7   1.807688  1.051370  1.445215  1.604647  1.672671  7.581590\n",
            "8   1.461857  1.561758  1.965309  1.404317  1.213750  7.606992\n",
            "9   1.092026  1.313230  1.292215  1.746046  1.694897  7.138415\n",
            "10  1.712975  1.787951  1.405668  1.591722  1.211254  7.709571\n",
            "11  1.340038  1.551132  1.838197  1.592507  1.501763  7.823637\n",
            "12  1.361035  1.024557  1.065777  1.914446  1.196657  6.562470\n",
            "13  1.400683  1.681290  1.487329  1.837235  1.672493  8.079031\n",
            "14  1.310061  1.152006  1.912289  1.842706  1.933976  8.151037\n",
            "15  1.636372  1.425902  1.526315  1.073936  1.995311  7.657836\n",
            "16  1.103926  1.569888  1.760210  1.109240  1.761411  7.304674\n",
            "17  1.390257  1.468414  1.386781  1.668520  1.313054  7.227027\n",
            "18  1.018057  1.277682  1.704385  1.201234  1.056605  6.257964\n",
            "19  1.300366  1.871617  1.925163  1.568905  1.158233  7.824284\n",
            "\n",
            "\n",
            "Number of rows in the dataframe where the value in the column “g” is “LT8” is:  15\n",
            "\n",
            "\n",
            "Standard deviation of the column “f” for the rows where the value in the column “g” is “LT8” is:  0.4657993366209845\n",
            "\n",
            "\n",
            "Standard deviation of the column “f” for the rows where the value in the column “g” is “GT8” is:  0.1126574177372952\n"
          ]
        }
      ]
    },
    {
      "cell_type": "markdown",
      "source": [
        "## Q12. Write a small piece of code to explain broadcasting in numpy.\n",
        "## Answer:"
      ],
      "metadata": {
        "id": "OMhMDXOPJ3di"
      }
    },
    {
      "cell_type": "code",
      "source": [
        "import numpy as np\n",
        "\n",
        "# 1D array\n",
        "a = np.array([1, 2, 3])\n",
        "\n",
        "# 2D array\n",
        "b = np.array([[1, 2, 3],\n",
        "              [4, 5, 6]])\n",
        "\n",
        "# Here we are adding the 1D array to the 2D array using broadcasting\n",
        "c = a + b\n",
        "\n",
        "print(c)\n"
      ],
      "metadata": {
        "colab": {
          "base_uri": "https://localhost:8080/"
        },
        "id": "v0lMCKilGA8F",
        "outputId": "6bf4c6e9-0f76-49c0-961c-08d0ab8f8085"
      },
      "execution_count": null,
      "outputs": [
        {
          "output_type": "stream",
          "name": "stdout",
          "text": [
            "[[2 4 6]\n",
            " [5 7 9]]\n"
          ]
        }
      ]
    },
    {
      "cell_type": "markdown",
      "source": [
        "## Q13. Write a function to compute the argmin of a numpy array. The function should take a numpy array as input and return the index of the minimum element. You can use the np.argmin function to verify your solution.\n",
        "## Answer:"
      ],
      "metadata": {
        "id": "YoinfvIaLqUS"
      }
    },
    {
      "cell_type": "code",
      "source": [
        "import numpy as np\n",
        "ar = np.random.randint(1,1000, size=(5,5))\n",
        "\n",
        "def argmin(ar):\n",
        "    arr = list(ar.flatten())\n",
        "    print(\"argmin output with our approach :\",arr.index(min(arr)))\n",
        "    print(\"\\n\")\n",
        "\n",
        "print(ar)\n",
        "\n",
        "argmin(ar)\n",
        "print(\"argmin output with numpy.argmin approach :\",np.argmin(ar))"
      ],
      "metadata": {
        "colab": {
          "base_uri": "https://localhost:8080/"
        },
        "id": "5ic6PES9GA-Z",
        "outputId": "09e4f7a8-cf9e-441f-c100-97c90f57040e"
      },
      "execution_count": null,
      "outputs": [
        {
          "output_type": "stream",
          "name": "stdout",
          "text": [
            "[[411  84 756   6 208]\n",
            " [794 774 106 149 614]\n",
            " [930 574  95 762 759]\n",
            " [217 353 890 122 919]\n",
            " [886 959 511 838 944]]\n",
            "argmin output with our approach : 3\n",
            "\n",
            "\n",
            "argmin output with numpy.argmin approach : 3\n"
          ]
        }
      ]
    }
  ]
}